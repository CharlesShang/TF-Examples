{
 "cells": [
  {
   "cell_type": "code",
   "execution_count": 1,
   "metadata": {
    "collapsed": true
   },
   "outputs": [],
   "source": [
    "# make sure how tf.nn.top_k works\n",
    "# note: tf.where return a tensor with redundant 1 dimension\n",
    "\n",
    "import tensorflow as tf\n",
    "import numpy as np\n",
    "\n",
    "config = tf.ConfigProto(allow_soft_placement=True)\n",
    "config.gpu_options.per_process_gpu_memory_fraction = 0.40\n",
    "sess = tf.InteractiveSession(config=config)"
   ]
  },
  {
   "cell_type": "code",
   "execution_count": 2,
   "metadata": {
    "collapsed": false
   },
   "outputs": [
    {
     "name": "stdout",
     "output_type": "stream",
     "text": [
      "[[ 0.30855643  0.0107447   0.91636905  0.44848422]\n",
      " [ 0.01029674  0.1352565   0.07343978  0.86560538]\n",
      " [ 0.79171092  0.7055218   0.81898806  0.77889865]\n",
      " [ 0.40905475  0.96215466  0.57835041  0.32891823]\n",
      " [ 0.6326807   0.43605883  0.05710362  0.42334645]\n",
      " [ 0.55410533  0.54921449  0.06856669  0.11539495]\n",
      " [ 0.34798356  0.23122613  0.71717625  0.49474662]\n",
      " [ 0.126275    0.35067437  0.36891203  0.98862398]\n",
      " [ 0.4405645   0.56181611  0.00635853  0.44115811]\n",
      " [ 0.39241152  0.793026    0.08580658  0.71665797]]\n"
     ]
    }
   ],
   "source": [
    "m = tf.constant(np.random.rand(10, 4))\n",
    "print m.eval()"
   ]
  },
  {
   "cell_type": "code",
   "execution_count": 45,
   "metadata": {
    "collapsed": false
   },
   "outputs": [
    {
     "name": "stdout",
     "output_type": "stream",
     "text": [
      "[10  4]\n",
      "[ 1.6841544   1.0845984   3.09511943  2.27847805  1.54918959  1.28728146\n",
      "  1.79113256  1.83448538  1.44989725  1.98790207]\n",
      "[2 3 9 7 6]\n",
      "[ 3.09511943  2.27847805  1.98790207  1.83448538  1.79113256]\n",
      "[ 3.09511943  2.27847805  1.98790207  1.83448538  1.79113256]\n"
     ]
    }
   ],
   "source": [
    "print tf.shape(m).eval()\n",
    "s = tf.reduce_sum(m, reduction_indices=[1])\n",
    "print s.eval()\n",
    "m_top5, inds = tf.nn.top_k(s, 5)\n",
    "m_top5_ = tf.gather(s, inds)\n",
    "print inds.eval()\n",
    "print m_top5.eval()\n",
    "print m_top5_.eval()"
   ]
  },
  {
   "cell_type": "code",
   "execution_count": 13,
   "metadata": {
    "collapsed": false
   },
   "outputs": [
    {
     "name": "stdout",
     "output_type": "stream",
     "text": [
      "s is  [ 1.6841544   1.0845984   3.09511943  2.27847805  1.54918959  1.28728146\n",
      "  1.79113256  1.83448538  1.44989725  1.98790207]\n",
      "top 3  is:\n",
      "[ 3.09511943  2.27847805  1.98790207]\n",
      "[ 3.09511943  2.27847805  1.98790207]\n"
     ]
    }
   ],
   "source": [
    "# tf.minimum()\n",
    "top_k = tf.minimum(tf.shape(m)[0] / 3, 5)\n",
    "s = tf.reduce_sum(m, reduction_indices=[1])\n",
    "print 's is ', s.eval()\n",
    "m_top, inds = tf.nn.top_k(s, top_k)\n",
    "m_top_ = tf.gather(s, inds)\n",
    "print 'top ' + str(top_k.eval()), ' is:'\n",
    "print m_top.eval()\n",
    "print m_top_.eval()"
   ]
  },
  {
   "cell_type": "code",
   "execution_count": 40,
   "metadata": {
    "collapsed": false
   },
   "outputs": [
    {
     "name": "stdout",
     "output_type": "stream",
     "text": [
      "Help on function gather in module tensorflow.python.ops.gen_array_ops:\n",
      "\n",
      "gather(params, indices, validate_indices=None, name=None)\n",
      "    Gather slices from `params` according to `indices`.\n",
      "    \n",
      "    `indices` must be an integer tensor of any dimension (usually 0-D or 1-D).\n",
      "    Produces an output tensor with shape `indices.shape + params.shape[1:]` where:\n",
      "    \n",
      "        # Scalar indices\n",
      "        output[:, ..., :] = params[indices, :, ... :]\n",
      "    \n",
      "        # Vector indices\n",
      "        output[i, :, ..., :] = params[indices[i], :, ... :]\n",
      "    \n",
      "        # Higher rank indices\n",
      "        output[i, ..., j, :, ... :] = params[indices[i, ..., j], :, ..., :]\n",
      "    \n",
      "    If `indices` is a permutation and `len(indices) == params.shape[0]` then\n",
      "    this operation will permute `params` accordingly.\n",
      "    \n",
      "    <div style=\"width:70%; margin:auto; margin-bottom:10px; margin-top:20px;\">\n",
      "    <img style=\"width:100%\" src=\"../../images/Gather.png\" alt>\n",
      "    </div>\n",
      "    \n",
      "    Args:\n",
      "      params: A `Tensor`.\n",
      "      indices: A `Tensor`. Must be one of the following types: `int32`, `int64`.\n",
      "      validate_indices: An optional `bool`. Defaults to `True`.\n",
      "      name: A name for the operation (optional).\n",
      "    \n",
      "    Returns:\n",
      "      A `Tensor`. Has the same type as `params`.\n",
      "\n",
      "[ 1  1 -1 -1 -1  0 -1  1  0  1]\n",
      "[[ 0.45953898  0.13431683  0.99159979  0.64938353]\n",
      " [ 0.31972649  0.6739822   0.17844033  0.93756746]\n",
      " [ 0.24441097  0.9267737   0.42725886  0.46498287]\n",
      " [ 0.14199484  0.23902213  0.24241869  0.32687972]\n",
      " [ 0.81686758  0.21847603  0.21176533  0.01089869]\n",
      " [ 0.27480661  0.69575193  0.18817153  0.44912241]\n",
      " [ 0.82937472  0.27115176  0.11618151  0.72801564]\n",
      " [ 0.31764399  0.65743683  0.2870562   0.54659029]\n",
      " [ 0.93020952  0.64525706  0.59462619  0.64812553]\n",
      " [ 0.98845242  0.96618147  0.4901435   0.6247546 ]]\n"
     ]
    }
   ],
   "source": [
    "# gather 2 dimensional tensor\n",
    "help(tf.gather)\n",
    "g = tf.constant(np.random.rand(5, 4, 3))\n",
    "label = tf.constant(np.random.randint(3, size=(10)) - 1)\n",
    "x = tf.constant(np.random.rand(10, 4))\n",
    "print (label.eval())\n",
    "print (x.eval())"
   ]
  },
  {
   "cell_type": "code",
   "execution_count": 44,
   "metadata": {
    "collapsed": false
   },
   "outputs": [
    {
     "name": "stdout",
     "output_type": "stream",
     "text": [
      "[10] [6 1]\n",
      "(6,)\n",
      "kept label index is [0 1 5 7 8 9]\n",
      "kept label is [1 1 0 1 0 1]\n",
      "(6, 4)\n",
      "valid x is [[ 0.45953898  0.13431683  0.99159979  0.64938353]\n",
      " [ 0.31972649  0.6739822   0.17844033  0.93756746]\n",
      " [ 0.27480661  0.69575193  0.18817153  0.44912241]\n",
      " [ 0.31764399  0.65743683  0.2870562   0.54659029]\n",
      " [ 0.93020952  0.64525706  0.59462619  0.64812553]\n",
      " [ 0.98845242  0.96618147  0.4901435   0.6247546 ]]\n"
     ]
    }
   ],
   "source": [
    "keeps_cls = tf.where(tf.not_equal(label, -1))\n",
    "# notice the tf.where return a tensor with the shape of [N, 1]\n",
    "print tf.shape(label).eval(), tf.shape(keeps_cls).eval()\n",
    "keeps_cls = tf.reshape(keeps_cls, [-1])\n",
    "print keeps_cls.eval().shape\n",
    "label_valid = tf.gather(label, keeps_cls)\n",
    "print 'kept label index is', keeps_cls.eval()\n",
    "print 'kept label is', label_valid.eval()\n",
    "x_valid = tf.gather(x, keeps_cls)\n",
    "print x_valid.eval().shape\n",
    "print 'valid x is', x_valid.eval() "
   ]
  }
 ],
 "metadata": {
  "kernelspec": {
   "display_name": "Python [Root]",
   "language": "python",
   "name": "Python [Root]"
  },
  "language_info": {
   "codemirror_mode": {
    "name": "ipython",
    "version": 2
   },
   "file_extension": ".py",
   "mimetype": "text/x-python",
   "name": "python",
   "nbconvert_exporter": "python",
   "pygments_lexer": "ipython2",
   "version": "2.7.12"
  }
 },
 "nbformat": 4,
 "nbformat_minor": 0
}

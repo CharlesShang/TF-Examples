{
 "cells": [
  {
   "cell_type": "code",
   "execution_count": 1,
   "metadata": {
    "collapsed": false
   },
   "outputs": [],
   "source": [
    "import pandas as pd\n",
    "import os\n",
    "from bs4 import BeautifulSoup\n",
    "from more_itertools import unique_everseen\n",
    "import numpy as np\n",
    "import matplotlib.pyplot as plt\n",
    "import skimage\n",
    "from skimage import io\n",
    "from voc_utils import PascalVOC"
   ]
  },
  {
   "cell_type": "code",
   "execution_count": 2,
   "metadata": {
    "collapsed": false
   },
   "outputs": [
    {
     "name": "stdout",
     "output_type": "stream",
     "text": [
      "['__doc__', '__init__', '__module__', '_annotation_file_from_img', '_imgs_from_category', 'ann_dir', 'cache_dir', 'cat_name_to_cat_id', 'display_image_and_mask', 'display_img_and_masks', 'get_all_obj_and_box', 'get_image_url_list', 'get_imgs', 'get_masks', 'img_dir', 'imgs_from_category_as_list', 'list_image_sets', 'load_annotation', 'load_data', 'load_data_multilabel', 'load_img', 'load_imgs', 'root_dir', 'set_dir']\n",
      "['aeroplane', 'bicycle', 'bird', 'boat', 'bottle', 'bus', 'car', 'cat', 'chair', 'cow', 'diningtable', 'dog', 'horse', 'motorbike', 'person', 'pottedplant', 'sheep', 'sofa', 'train', 'tvmonitor'] 20\n"
     ]
    }
   ],
   "source": [
    "voc = PascalVOC('/home/shang/data/VOC2012/VOCdevkit/VOC2012/')\n",
    "print dir(voc)\n",
    "image_sets = voc.list_image_sets()\n",
    "print image_sets, len(image_sets)"
   ]
  },
  {
   "cell_type": "code",
   "execution_count": 3,
   "metadata": {
    "collapsed": false
   },
   "outputs": [],
   "source": [
    "train_img_list = voc.imgs_from_category_as_list('bicycle', 'train')\n",
    "# print train_img_list\n",
    "a = voc.load_annotation(train_img_list[0])\n",
    "# print a\n",
    "df = voc.load_data('cat', 'train')\n",
    "# print df\n",
    "# print list(unique_everseen(list(voc.img_dir + df['fname'])))"
   ]
  },
  {
   "cell_type": "code",
   "execution_count": 4,
   "metadata": {
    "collapsed": false
   },
   "outputs": [
    {
     "name": "stdout",
     "output_type": "stream",
     "text": [
      "aeroplane\n",
      "bicycle\n",
      "bird\n",
      "boat\n",
      "bottle\n",
      "bus\n",
      "car\n",
      "cat\n",
      "chair\n",
      "cow\n",
      "diningtable\n",
      "dog\n",
      "horse\n",
      "motorbike\n",
      "person\n",
      "pottedplant\n",
      "sheep\n",
      "sofa\n",
      "train\n",
      "tvmonitor\n"
     ]
    }
   ],
   "source": [
    "for c in image_sets:\n",
    "    print c\n",
    "    voc.get_imgs(c, 'train')\n",
    "    voc.get_imgs(c, 'val')"
   ]
  },
  {
   "cell_type": "code",
   "execution_count": 6,
   "metadata": {
    "collapsed": false
   },
   "outputs": [
    {
     "name": "stdout",
     "output_type": "stream",
     "text": [
      "aeroplane\n",
      "bicycle\n",
      "bird\n",
      "boat\n",
      "bottle\n",
      "bus\n",
      "car\n",
      "cat\n",
      "chair\n",
      "cow\n",
      "diningtable\n",
      "dog\n",
      "horse\n",
      "motorbike\n",
      "person\n",
      "pottedplant\n",
      "sheep\n",
      "sofa\n",
      "train\n",
      "tvmonitor\n"
     ]
    }
   ],
   "source": [
    "for c in image_sets:\n",
    "    print c\n",
    "    voc.get_masks(c, 'train', 'bbox1')\n",
    "    voc.get_masks(c, 'val', 'bbox1')"
   ]
  },
  {
   "cell_type": "code",
   "execution_count": null,
   "metadata": {
    "collapsed": true
   },
   "outputs": [],
   "source": []
  }
 ],
 "metadata": {
  "kernelspec": {
   "display_name": "Python [Root]",
   "language": "python",
   "name": "Python [Root]"
  },
  "language_info": {
   "codemirror_mode": {
    "name": "ipython",
    "version": 2
   },
   "file_extension": ".py",
   "mimetype": "text/x-python",
   "name": "python",
   "nbconvert_exporter": "python",
   "pygments_lexer": "ipython2",
   "version": "2.7.12"
  }
 },
 "nbformat": 4,
 "nbformat_minor": 0
}
